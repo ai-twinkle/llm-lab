{
 "cells": [
  {
   "cell_type": "markdown",
   "id": "460dd58c-07e2-4f90-a8f0-67fd1a70a19a",
   "metadata": {},
   "source": [
    "# 03 - 格式化為訓練資料（SFT JSONL / Chat messages + Schema 驗證）\n",
    "\n",
    "目標：\n",
    "- 載入 `outputs/clean.jsonl`\n",
    "- 轉換為常見訓練格式：\n",
    "  - **SFT JSONL**：`{\"messages\": {\"human\": \"...\", \"gpt\": \"...\"}}`\n",
    "  - **Chat messages**：保留 `{role, content}` 陣列\n",
    "- 使用 **JSON Schema** 驗證結構正確性\n",
    "- 輸出 `outputs/sft.jsonl` 與（或）`outputs/messages.jsonl`"
   ]
  },
  {
   "cell_type": "markdown",
   "id": "9accaadc-921b-467b-b12c-229d08ddb2ae",
   "metadata": {},
   "source": [
    "## 1.安裝依賴與路徑設定"
   ]
  },
  {
   "cell_type": "code",
   "execution_count": 1,
   "id": "5db982df-d208-4956-b25e-97f5dbffe31a",
   "metadata": {},
   "outputs": [
    {
     "name": "stdout",
     "output_type": "stream",
     "text": [
      "\u001b[33mWARNING: Running pip as the 'root' user can result in broken permissions and conflicting behaviour with the system package manager. It is recommended to use a virtual environment instead: https://pip.pypa.io/warnings/venv\u001b[0m\u001b[33m\n",
      "\u001b[0m"
     ]
    }
   ],
   "source": [
    "!pip -q install jsonschema pandas"
   ]
  },
  {
   "cell_type": "code",
   "execution_count": 2,
   "id": "907be16c-4725-490a-94cd-10a7c5441c33",
   "metadata": {},
   "outputs": [
    {
     "name": "stdout",
     "output_type": "stream",
     "text": [
      "✅ 讀取： outputs/clean.jsonl\n",
      "📝 輸出（SFT）： outputs/sft.jsonl\n",
      "📝 輸出（messages）： outputs/messages.jsonl\n"
     ]
    }
   ],
   "source": [
    "from pathlib import Path\n",
    "import json\n",
    "import pandas as pd\n",
    "from typing import List, Dict, Any\n",
    "\n",
    "INPUT_CLEAN = Path(\"outputs/clean.jsonl\")\n",
    "OUTPUT_DIR = Path(\"outputs\")\n",
    "OUTPUT_SFT = OUTPUT_DIR / \"sft.jsonl\"\n",
    "OUTPUT_MSG = OUTPUT_DIR / \"messages.jsonl\"\n",
    "\n",
    "assert INPUT_CLEAN.exists(), f\"找不到 {INPUT_CLEAN}，請先完成 02_quality_checks.ipynb\"\n",
    "OUTPUT_DIR.mkdir(parents=True, exist_ok=True)\n",
    "\n",
    "print(\"✅ 讀取：\", INPUT_CLEAN)\n",
    "print(\"📝 輸出（SFT）：\", OUTPUT_SFT)\n",
    "print(\"📝 輸出（messages）：\", OUTPUT_MSG)"
   ]
  },
  {
   "cell_type": "markdown",
   "id": "88f81ac8-9a30-4685-b665-78e74bad4d8a",
   "metadata": {},
   "source": [
    "## 2. 載入 `clean.jsonl`\n",
    "保留原始欄位（`id`, `topic`, `style`, `messages`），後續轉換時會使用。"
   ]
  },
  {
   "cell_type": "code",
   "execution_count": 3,
   "id": "8d2db963-1b68-4fec-9450-f6ce8b2de5f7",
   "metadata": {},
   "outputs": [
    {
     "data": {
      "text/plain": [
       "(25, dict_keys(['id', 'topic', 'style', 'messages']))"
      ]
     },
     "execution_count": 3,
     "metadata": {},
     "output_type": "execute_result"
    }
   ],
   "source": [
    "records: List[Dict[str, Any]] = []\n",
    "with INPUT_CLEAN.open(\"r\", encoding=\"utf-8\") as f:\n",
    "    for line in f:\n",
    "        records.append(json.loads(line))\n",
    "\n",
    "len(records), records[0].keys()"
   ]
  },
  {
   "cell_type": "markdown",
   "id": "37c3653b-ddeb-460c-ad97-7caa9825acd8",
   "metadata": {},
   "source": [
    "## 3. 兩種常見訓練格式\n",
    "\n",
    "### A. Alpca Format"
   ]
  },
  {
   "cell_type": "code",
   "execution_count": null,
   "id": "f031e85d-5575-4426-825e-da6333dd8574",
   "metadata": {},
   "outputs": [],
   "source": []
  }
 ],
 "metadata": {
  "kernelspec": {
   "display_name": "Python 3 (ipykernel)",
   "language": "python",
   "name": "python3"
  },
  "language_info": {
   "codemirror_mode": {
    "name": "ipython",
    "version": 3
   },
   "file_extension": ".py",
   "mimetype": "text/x-python",
   "name": "python",
   "nbconvert_exporter": "python",
   "pygments_lexer": "ipython3",
   "version": "3.11.6"
  }
 },
 "nbformat": 4,
 "nbformat_minor": 5
}
