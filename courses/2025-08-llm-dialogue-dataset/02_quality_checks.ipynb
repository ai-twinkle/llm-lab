{
 "cells": [
  {
   "cell_type": "markdown",
   "id": "3014b7ac-7748-46f6-965e-8f92b57377cf",
   "metadata": {},
   "source": [
    "# 02 - 資料品質檢查與過濾（Quality Checks）\n",
    "\n",
    "<div align=\"left\" style=\"line-height: 1;\">\n",
    "  <a href=\"https://discord.gg/Cx737yw4ed\" target=\"_blank\" style=\"margin: 2px;\">\n",
    "    <img alt=\"Discord\" src=\"https://img.shields.io/badge/Discord-Twinkle%20AI-7289da?logo=discord&logoColor=white&color=7289da\" style=\"display: inline-block; vertical-align: middle;\"/>\n",
    "  </a>\n",
    "  <a href=\"https://huggingface.co/twinkle-ai\" target=\"_blank\" style=\"margin: 2px;\">\n",
    "    <img alt=\"Hugging Face\" src=\"https://img.shields.io/badge/%F0%9F%A4%97%20Hugging%20Face-Twinkle%20AI-ffc107?color=ffc107&logoColor=white\" style=\"display: inline-block; vertical-align: middle;\"/>\n",
    "  </a>\n",
    "      <a href=\"https://colab.research.google.com/github/ai-twinkle/llm-lab/blob/main/courses/2025-08-llm-dialogue-dataset/02_quality_checks.ipynb\" target=\"_blank\" style=\"margin: 2px;\">\n",
    "    <img src=\"https://colab.research.google.com/assets/colab-badge.svg\" alt=\"Open 02_quality_checks In Colab\" style=\"display: inline-block; vertical-align: middle;\"/>\n",
    "  </a>\n",
    "</div>\n",
    "\n",
    "目標：\n",
    "- 載入 `raw.jsonl`\n",
    "- 規則式檢查：敏感詞 / 結構完整 / 長度門檻 / 不含 placeholder\n",
    "- 產出 `clean.jsonl`\n",
    "- 生成摘要報表（通過/剔除統計、剔除原因分佈）"
   ]
  },
  {
   "cell_type": "markdown",
   "id": "50b8ced3-2e81-4f19-af3f-99c98c5efbd8",
   "metadata": {},
   "source": [
    "### 註：不論如何，禁用 [opencc-python](https://github.com/yichen0831/opencc-python) 做任何轉換\n",
    "\n",
    "雖然 OpenCC 的簡轉繁功能很方便，但它只是機械式轉換，繁體字有時會被誤判或錯轉，導致語意錯誤或不符合在地用法，因此並不適合需要精準繁體輸出的情境。"
   ]
  },
  {
   "cell_type": "markdown",
   "id": "8aed0c38-dc62-44ef-aa93-dc043781f5c8",
   "metadata": {},
   "source": [
    "## 1. 準備路徑與依賴"
   ]
  },
  {
   "cell_type": "code",
   "execution_count": null,
   "id": "03e97990-9f6d-4134-b1d0-4e7966210732",
   "metadata": {},
   "outputs": [],
   "source": [
    "!mkdir -p outputs\n",
    "!curl -L \"https://raw.githubusercontent.com/ai-twinkle/llm-lab/main/courses/2025-08-llm-dialogue-dataset/outputs/datasets.jsonl\" \\\n",
    "  -o outputs/datasets.jsonl"
   ]
  },
  {
   "cell_type": "code",
   "execution_count": null,
   "id": "92d2e6e0-336f-4893-88b9-2b88dc67c79d",
   "metadata": {},
   "outputs": [],
   "source": [
    "from pathlib import Path\n",
    "import json, re, statistics\n",
    "from collections import Counter, defaultdict\n",
    "\n",
    "INPUT_PATH = Path(\"outputs/datasets.jsonl\")\n",
    "OUTPUT_DIR = Path(\"outputs\")\n",
    "OUTPUT_CLEAN = OUTPUT_DIR / \"clean.jsonl\"\n",
    "OUTPUT_REPORT = OUTPUT_DIR / \"qc_report.json\"\n",
    "\n",
    "assert INPUT_PATH.exists(), f\"找不到 {INPUT_PATH}，請先完成 01_generate_dialogs.ipynb\"\n",
    "OUTPUT_DIR.mkdir(parents=True, exist_ok=True)\n",
    "\n",
    "print(\"✅ 讀取來源：\", INPUT_PATH)\n",
    "print(\"✅ 乾淨輸出：\", OUTPUT_CLEAN)"
   ]
  },
  {
   "cell_type": "markdown",
   "id": "3926d664-eddd-4303-9207-b3a2260afaf3",
   "metadata": {},
   "source": [
    "## 2. 載入資料\n",
    "\n",
    "逐行讀取 JSONL，存到 list。這裡不做任何變形，只檢視基本鍵值。"
   ]
  },
  {
   "cell_type": "code",
   "execution_count": null,
   "id": "a26301db-4c15-4580-a84b-5f6a4687685b",
   "metadata": {},
   "outputs": [],
   "source": [
    "records = []\n",
    "with INPUT_PATH.open(\"r\", encoding=\"utf-8\") as f:\n",
    "    for line in f:\n",
    "        try:\n",
    "            records.append(json.loads(line))\n",
    "        except Exception as e:\n",
    "            # 若出現無法解析的行，記錄並跳過\n",
    "            print(\"⚠️ 無法解析的行，已略過：\", e)\n",
    "\n",
    "len(records)"
   ]
  },
  {
   "cell_type": "markdown",
   "id": "9b9753e1-25c2-4fce-9faa-c6266f19f43c",
   "metadata": {},
   "source": [
    "## 3. 品質規則定義\n",
    "\n",
    "本課採「規則式（rule-based）」檢查以快速過濾：\n",
    "1. **結構**：`messages` 至少包含 `system`、`user`、`assistant` 三則；且對話文本不為空。\n",
    "2. **多輪性**：對話需包含至少 3 輪（可鬆綁為 1 輪以上，但本課先採至少 3 輪）。\n",
    "3. **長度**：合併文本長度至少 80 字（避免過短）。\n",
    "4. **敏感詞**：過濾個資或敏感詞（示例黑名單）。\n",
    "5. **Placeholder**：不得包含 `XXX`、`<填充>` 類佔位符。"
   ]
  },
  {
   "cell_type": "code",
   "execution_count": null,
   "id": "4c0923e3-6fa0-41bb-97a4-653a036c72d5",
   "metadata": {},
   "outputs": [],
   "source": [
    "# 1) 結構/角色檢查\n",
    "def has_min_roles(msgs):\n",
    "    roles = [m.get(\"role\") for m in msgs]\n",
    "    return {\"system\", \"user\", \"assistant\"}.issubset(set(roles))\n",
    "\n",
    "# 2) 多輪性（這裡以訊息數 >= 3 視為最低門檻；若需要更嚴謹可解析回合）\n",
    "def has_min_turns(msgs, min_msgs=3):\n",
    "    return len(msgs) >= min_msgs\n",
    "\n",
    "# 3) 長度門檻\n",
    "def meet_min_length(msgs, min_chars=80):\n",
    "    total = sum(len((m.get(\"content\") or \"\").strip()) for m in msgs)\n",
    "    return total >= min_chars\n",
    "\n",
    "# 4) 敏感詞（示例）：身分證/電話/地址/Email/信用卡/生日\n",
    "SENSITIVE_PATTERNS = [\n",
    "    r\"\\b[A-Z][12]\\d{8}\\b\",                         # 台灣身分證格式\n",
    "    r\"\\b09\\d{8}\\b|\\b0\\d{1,2}-\\d{6,8}\\b\",          # 手機或市話\n",
    "    r\"[A-Za-z0-9._%+-]+@[A-Za-z0-9.-]+\\.[A-Za-z]{2,}\",  # email\n",
    "    r\"\\b\\d{4}[- ]?\\d{4}[- ]?\\d{4}[- ]?\\d{4}\\b\",   # 信用卡 16 碼\n",
    "    r\"\\b(19|20)\\d{2}[/-]\\d{1,2}[/-]\\d{1,2}\\b\",    # 西元生日 yyyy/mm/dd 或 yyyy-mm-dd\n",
    "]\n",
    "\n",
    "def has_sensitive(text):\n",
    "    return any(re.search(p, text) for p in SENSITIVE_PATTERNS)\n",
    "\n",
    "# 5) Placeholder 過濾\n",
    "PLACEHOLDER_PATTERNS = [r\"XXX\", r\"<填充>\", r\"\\[PLACEHOLDER\\]\"]\n",
    "\n",
    "def has_placeholder(text):\n",
    "    return any(re.search(p, text, flags=re.IGNORECASE) for p in PLACEHOLDER_PATTERNS)"
   ]
  },
  {
   "cell_type": "markdown",
   "id": "80e5a6cd-4b31-451f-a1c8-c34437a11560",
   "metadata": {},
   "source": [
    "## 4. 單筆檢查與原因標註\n",
    "\n",
    "輸入一筆記錄，回傳 (是否通過, 剔除原因集合)。"
   ]
  },
  {
   "cell_type": "code",
   "execution_count": null,
   "id": "495390d6-59f4-4ec5-a7e7-1b236a5a1ef7",
   "metadata": {},
   "outputs": [],
   "source": [
    "def join_text_by_roles(msgs, roles=(\"assistant\",)):\n",
    "    return \"\\n\".join((m.get(\"content\") or \"\").strip()\n",
    "                     for m in msgs if m.get(\"role\") in roles)\n",
    "\n",
    "def quality_check(record):\n",
    "    reasons = []\n",
    "\n",
    "    msgs = record.get(\"messages\", [])\n",
    "    if not isinstance(msgs, list) or not msgs:\n",
    "        return False, {\"bad_structure\"}\n",
    "\n",
    "    if not has_min_roles(msgs):\n",
    "        reasons.append(\"missing_roles\")\n",
    "\n",
    "    if not has_min_turns(msgs, min_msgs=3):\n",
    "        reasons.append(\"too_few_messages\")\n",
    "\n",
    "    # ⬇️ 只看 assistant 文字，避免掃到 user 提示內的「例如 身分證/電話…」\n",
    "    text = join_text_by_roles(msgs, roles=(\"assistant\",))\n",
    "\n",
    "    if not meet_min_length(msgs, min_chars=80):\n",
    "        reasons.append(\"too_short\")\n",
    "\n",
    "    if has_sensitive(text):\n",
    "        reasons.append(\"sensitive_content\")\n",
    "\n",
    "    if has_placeholder(text):\n",
    "        reasons.append(\"placeholder_found\")\n",
    "\n",
    "    return (len(reasons) == 0), set(reasons)"
   ]
  },
  {
   "cell_type": "markdown",
   "id": "943576f6-5c01-488e-8e71-f305afae9dd1",
   "metadata": {},
   "source": [
    "## 5. 執行過濾並輸出 `clean.jsonl`"
   ]
  },
  {
   "cell_type": "code",
   "execution_count": null,
   "id": "71a2ae66-e807-4ecd-a4bf-577825c339d2",
   "metadata": {},
   "outputs": [],
   "source": [
    "kept, dropped = [], []\n",
    "for rec in records:\n",
    "    ok, reasons = quality_check(rec)\n",
    "    if ok:\n",
    "        kept.append(rec)\n",
    "    else:\n",
    "        dropped.append((rec.get(\"id\"), reasons))\n",
    "\n",
    "with OUTPUT_CLEAN.open(\"w\", encoding=\"utf-8\") as f:\n",
    "    for r in kept:\n",
    "        f.write(json.dumps(r, ensure_ascii=False) + \"\\n\")\n",
    "\n",
    "print(f\"✅ 通過：{len(kept)}  筆\")\n",
    "print(f\"❌ 剔除：{len(dropped)} 筆\")"
   ]
  },
  {
   "cell_type": "markdown",
   "id": "ae5ec9a4-9eea-4a5a-8af4-0cdbead0a49a",
   "metadata": {},
   "source": [
    "## 6. 產出品質報表\n",
    "\n",
    "統計剔除原因分佈、長度分佈（通過者），並輸出 `qc_report.json` 方便保存與追蹤。"
   ]
  },
  {
   "cell_type": "code",
   "execution_count": null,
   "id": "91348e15-d898-4b96-a6f4-8e19fa1080ae",
   "metadata": {},
   "outputs": [],
   "source": [
    "# 剔除原因分佈\n",
    "reason_counter = Counter()\n",
    "for _id, reasons in dropped:\n",
    "    reason_counter.update(reasons)\n",
    "\n",
    "# 通過資料長度（字元計）分佈\n",
    "lengths = []\n",
    "for r in kept:\n",
    "    lengths.append(sum(len((m.get(\"content\") or \"\").strip()) for m in r[\"messages\"]))\n",
    "\n",
    "report = {\n",
    "    \"input_total\": len(records),\n",
    "    \"kept\": len(kept),\n",
    "    \"dropped\": len(dropped),\n",
    "    \"drop_reasons\": dict(reason_counter),\n",
    "    \"length_stats_kept\": {\n",
    "        \"min\": min(lengths) if lengths else 0,\n",
    "        \"max\": max(lengths) if lengths else 0,\n",
    "        \"mean\": round(statistics.mean(lengths), 2) if lengths else 0,\n",
    "        \"median\": statistics.median(lengths) if lengths else 0,\n",
    "    },\n",
    "}\n",
    "\n",
    "with OUTPUT_REPORT.open(\"w\", encoding=\"utf-8\") as f:\n",
    "    json.dump(report, f, ensure_ascii=False, indent=2)\n",
    "\n",
    "print(json.dumps(report, ensure_ascii=False, indent=2))"
   ]
  },
  {
   "cell_type": "markdown",
   "id": "fbb83d71-8c3f-41d6-adb7-3ff00e181cfb",
   "metadata": {},
   "source": [
    "## 7. 抽樣檢視通過樣本（前 2 筆）\n",
    "\n",
    "確認清洗後的資料結構與內容是否符合預期。"
   ]
  },
  {
   "cell_type": "code",
   "execution_count": null,
   "id": "1f78a29c-74fa-465c-a16d-1ba8f406406a",
   "metadata": {},
   "outputs": [],
   "source": [
    "preview = []\n",
    "with OUTPUT_CLEAN.open(\"r\", encoding=\"utf-8\") as f:\n",
    "    for i, line in enumerate(f):\n",
    "        if i >= 2:\n",
    "            break\n",
    "        preview.append(json.loads(line))\n",
    "\n",
    "for i, s in enumerate(preview, 1):\n",
    "    print(f\"\\n--- Clean Sample {i} / topic={s.get('topic')} ---\")\n",
    "    text = s[\"messages\"][-1][\"content\"]\n",
    "    print(text[:500] + (\"...\" if len(text) > 500 else \"\"))"
   ]
  },
  {
   "cell_type": "markdown",
   "id": "52ebdc34-7526-4679-bf09-b9f868311a92",
   "metadata": {},
   "source": [
    "## 8.（可選）LLM 輔助檢查（實務建議）\n",
    "> 所謂的 LLM-as-Judge\n",
    "\n",
    "在規則式檢查後，可抽樣使用 LLM 來做語義層面的檢查（如：是否符合主題、語氣、是否含危險建議等）。  \n",
    "以下為示意程式（預設註解，不影響主流程）。"
   ]
  },
  {
   "cell_type": "code",
   "execution_count": null,
   "id": "88b8958b-6f3a-4417-9ba2-e13a4a5500fd",
   "metadata": {},
   "outputs": [],
   "source": [
    "# from openai import OpenAI\n",
    "# API_KEY = \"\"  # 註解：這裡要問 Twinkle AI 社群\n",
    "# BASE_URL = \"https://litellm-ekkks8gsocw.dgx-coolify.apmic.ai\"\n",
    "# client = OpenAI(api_key=API_KEY, base_url=f\"{BASE_URL}/v1\")\n",
    "#\n",
    "# def llm_qc_judgement(text: str) -> bool:\n",
    "#     \"\"\"回傳 True 視為通過；False 視為不通過\"\"\"\n",
    "#     prompt = f\"請閱讀以下對話是否符合：主題連貫、語氣正式友善、無敏感資料、無危險建議。\\n\\n{text}\\n\\n請只回答：PASS 或 FAIL。\"\n",
    "#     resp = client.chat.completions.create(\n",
    "#         model=\"gemma-3-12b-it\",\n",
    "#         messages=[{\"role\":\"user\",\"content\": prompt}],\n",
    "#         temperature=0.0,\n",
    "#         max_tokens=10,\n",
    "#     )\n",
    "#     ans = resp.choices[0].message.content.strip().upper()\n",
    "#     return ans.startswith(\"PASS\")\n",
    "#\n",
    "# # 示例（只檢查前 3 筆）\n",
    "# for s in preview:\n",
    "#     ok = llm_qc_judgement(\"\\n\".join(m[\"content\"] for m in s[\"messages\"]))\n",
    "#     print(\"LLM QC ->\", \"PASS\" if ok else \"FAIL\")"
   ]
  },
  {
   "cell_type": "markdown",
   "id": "e2bfbf3a-5157-4bab-826b-64c510619a31",
   "metadata": {},
   "source": [
    "## 9.（可選）如果生成資料集一直沒通過"
   ]
  },
  {
   "cell_type": "code",
   "execution_count": null,
   "id": "b5d49ad4-a02e-4416-81a3-22bdd0b10ab5",
   "metadata": {},
   "outputs": [],
   "source": [
    "# 🔍 Debug：逐筆列出命中的敏感詞 / Placeholder（含前後文）\n",
    "import re\n",
    "\n",
    "def _ctx(text: str, start: int, end: int, width: int = 50) -> str:\n",
    "    s = max(0, start - width)\n",
    "    e = min(len(text), end + width)\n",
    "    return text[s:start] + \"【\" + text[start:end] + \"】\" + text[end:e]\n",
    "\n",
    "def debug_scan_record(rec: dict, show_only_hits: bool = True):\n",
    "    rid = rec.get(\"id\", \"<no-id>\")\n",
    "    topic = rec.get(\"topic\", \"\")\n",
    "    msgs = rec.get(\"messages\", [])\n",
    "\n",
    "    # 🔑 只掃 assistant（模型輸出）\n",
    "    text = \"\\n\".join((m.get(\"content\") or \"\") for m in msgs if m.get(\"role\") == \"assistant\")\n",
    "\n",
    "    sens_hits = []\n",
    "    for p in SENSITIVE_PATTERNS:\n",
    "        for m in re.finditer(p, text, flags=re.IGNORECASE):\n",
    "            sens_hits.append((p, m.start(), m.end(), m.group(0)))\n",
    "\n",
    "    ph_hits = []\n",
    "    for p in PLACEHOLDER_PATTERNS:\n",
    "        for m in re.finditer(p, text, flags=re.IGNORECASE):\n",
    "            ph_hits.append((p, m.start(), m.end(), m.group(0)))\n",
    "\n",
    "    if sens_hits or ph_hits or not show_only_hits:\n",
    "        print(f\"\\n=== Record id={rid} | topic={topic} ===\")\n",
    "        if sens_hits:\n",
    "            print(f\"Sensitive matches ({len(sens_hits)}):\")\n",
    "            for p, s, e, g in sens_hits:\n",
    "                print(f\" - pattern: {p}  | match: {g!r}\")\n",
    "                print(\"   ...\", _ctx(text, s, e), \"...\")\n",
    "        if ph_hits:\n",
    "            print(f\"Placeholder matches ({len(ph_hits)}):\")\n",
    "            for p, s, e, g in ph_hits:\n",
    "                print(f\" - pattern: {p}  | match: {g!r}\")\n",
    "                print(\"   ...\", _ctx(text, s, e), \"...\")\n",
    "    return bool(sens_hits), bool(ph_hits)\n",
    "\n",
    "def debug_scan_all(recs: list[dict], limit: int | None = None):\n",
    "    n = 0\n",
    "    total_sens = total_ph = 0\n",
    "    for rec in recs:\n",
    "        sens, ph = debug_scan_record(rec)\n",
    "        total_sens += int(sens)\n",
    "        total_ph += int(ph)\n",
    "        n += 1\n",
    "        if limit and n >= limit:\n",
    "            break\n",
    "    print(f\"\\nSummary: scanned {n} records | with_sensitive={total_sens} | with_placeholder={total_ph}\")"
   ]
  },
  {
   "cell_type": "code",
   "execution_count": null,
   "id": "f4161db3-b9e8-430e-b8b7-a5492edc3491",
   "metadata": {},
   "outputs": [],
   "source": [
    "# 假設你已在前面載入 records = [...]（從 raw.jsonl）\n",
    "debug_scan_all(records)          # 掃全部\n",
    "# 或只看前 10 筆\n",
    "# debug_scan_all(records, limit=10)"
   ]
  },
  {
   "cell_type": "code",
   "execution_count": null,
   "id": "628ca216-0dd5-4c8e-8e23-e7a05a3559e2",
   "metadata": {},
   "outputs": [],
   "source": []
  }
 ],
 "metadata": {
  "kernelspec": {
   "display_name": "Python 3 (ipykernel)",
   "language": "python",
   "name": "python3"
  },
  "language_info": {
   "codemirror_mode": {
    "name": "ipython",
    "version": 3
   },
   "file_extension": ".py",
   "mimetype": "text/x-python",
   "name": "python",
   "nbconvert_exporter": "python",
   "pygments_lexer": "ipython3",
   "version": "3.11.6"
  }
 },
 "nbformat": 4,
 "nbformat_minor": 5
}
