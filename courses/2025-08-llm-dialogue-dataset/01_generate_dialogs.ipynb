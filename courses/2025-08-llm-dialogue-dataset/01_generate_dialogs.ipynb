{
 "cells": [
  {
   "cell_type": "markdown",
   "id": "0754b947-2964-4aea-bc89-be28f386b1a1",
   "metadata": {},
   "source": [
    "# 01 - 批次生成對話資料\n",
    "\n",
    "<div align=\"left\" style=\"line-height: 1;\">\n",
    "  <a href=\"https://discord.gg/Cx737yw4ed\" target=\"_blank\" style=\"margin: 2px;\">\n",
    "    <img alt=\"Discord\" src=\"https://img.shields.io/badge/Discord-Twinkle%20AI-7289da?logo=discord&logoColor=white&color=7289da\" style=\"display: inline-block; vertical-align: middle;\"/>\n",
    "  </a>\n",
    "  <a href=\"https://huggingface.co/twinkle-ai\" target=\"_blank\" style=\"margin: 2px;\">\n",
    "    <img alt=\"Hugging Face\" src=\"https://img.shields.io/badge/%F0%9F%A4%97%20Hugging%20Face-Twinkle%20AI-ffc107?color=ffc107&logoColor=white\" style=\"display: inline-block; vertical-align: middle;\"/>\n",
    "  </a>\n",
    "</div>\n",
    "\n",
    "在這個 Notebook 中，你將學會：\n",
    "- 規劃「主題池 / 風格 / 隨機種子 / 批量數量」\n",
    "- 設計 prompt 模板，控制輸出品質與格式\n",
    "- 使用 OpenAI SDK（相容端點）批量呼叫模型\n",
    "- 將結果保存為 `JSONL`（後續會做品質檢查與格式化）\n",
    "\n",
    "> 提醒：這支 Notebook 預期你已完成 **00_setup_and_api_call**。"
   ]
  },
  {
   "cell_type": "markdown",
   "id": "6c218f13-7708-482d-a533-74c551edb114",
   "metadata": {},
   "source": [
    "## 1. 參數設定與端點初始化\n",
    "\n",
    "- `API_KEY`：請向 Twinkle AI 社群索取。  \n",
    "- `BASE_URL`：使用提供的相容端點。  \n",
    "- `MODEL`：本課使用 `gemma-3-12b-it`。  \n",
    "- 其他生成參數：`temperature`、`max_tokens`、`seed`、`n_per_topic` 等。"
   ]
  },
  {
   "cell_type": "code",
   "execution_count": 3,
   "id": "3b306125-a814-41ea-9db3-ea8e0a601ec1",
   "metadata": {},
   "outputs": [
    {
     "name": "stdout",
     "output_type": "stream",
     "text": [
      "✅ 初始化完成，將輸出到： outputs/raw.jsonl\n"
     ]
    }
   ],
   "source": [
    "from openai import OpenAI\n",
    "import os, json, random\n",
    "from pathlib import Path\n",
    "from typing import List, Dict\n",
    "\n",
    "# === 端點與金鑰（依課程提供填入） ===\n",
    "API_KEY = \"sk-eT_04m428oAPUD5kUmIhVA\"  # 註解：這裡要問 Twinkle AI 社群\n",
    "BASE_URL = \"https://litellm-ekkks8gsocw.dgx-coolify.apmic.ai\"\n",
    "MODEL = \"gemma-3-12b-it\"\n",
    "\n",
    "client = OpenAI(api_key=API_KEY, base_url=f\"{BASE_URL}/v1\")\n",
    "\n",
    "# === 生成參數 ===\n",
    "SEED = 42                      # 控制可重現性\n",
    "TEMPERATURE = 0.7              # 多樣性\n",
    "MAX_TOKENS = 800               # 允許較長的多輪對話\n",
    "TOPICS = [\"金融客服\", \"醫療諮詢\", \"法律諮詢\", \"電商售後\", \"教育輔導\"]\n",
    "STYLE = \"正式且友善，使用繁體中文，語句清楚、避免冗長。\"\n",
    "N_PER_TOPIC = 5                # 每個主題生成幾筆\n",
    "OUTPUT_DIR = Path(\"outputs\")\n",
    "OUTPUT_PATH = OUTPUT_DIR / \"raw.jsonl\"\n",
    "\n",
    "random.seed(SEED)\n",
    "OUTPUT_DIR.mkdir(parents=True, exist_ok=True)\n",
    "print(\"✅ 初始化完成，將輸出到：\", OUTPUT_PATH)"
   ]
  },
  {
   "cell_type": "markdown",
   "id": "73112473-3562-42e0-8ae9-dc83aa6571dd",
   "metadata": {},
   "source": [
    "## 2. 設計 Prompt 模板\n",
    "\n",
    "我們使用 `system` + `user`：\n",
    "- **system**：定義助理角色與語氣（專業、友善、繁中），並要求輸出為「多輪對話」與「清晰結構」。\n",
    "- **user**：傳入「主題」「風格」與「具體要求」。例如：\n",
    "  - 至少 3 輪（user/assistant 交替）\n",
    "  - 禁止個資（姓名、電話、住址、身分證等）\n",
    "  - 建議包含「釐清需求 → 提供步驟/要點 → 總結」\n",
    "\n",
    "> 小提醒：清楚的模板能顯著提升資料可用性與後續清理效率。"
   ]
  },
  {
   "cell_type": "code",
   "execution_count": 4,
   "id": "8fcac962-244e-40e1-b82a-c09994800e97",
   "metadata": {},
   "outputs": [],
   "source": [
    "SYSTEM_PROMPT = (\n",
    "    \"你是專業的對話助理，使用繁體中文回答。請保持語氣正式且友善，\"\n",
    "    \"輸出內容要有邏輯結構，避免冗長與重複。\"\n",
    ")\n",
    "\n",
    "USER_TEMPLATE = (\n",
    "    \"請依據主題生成一段『真實世界』的多輪對話，至少 3 輪，角色為使用者 (user) 與助理 (assistant) 交替。\\n\"\n",
    "    \"主題：{topic}\\n\"\n",
    "    \"風格：{style}\\n\"\n",
    "    \"要求：\\n\"\n",
    "    \"1) 禁止包含任何個人資料或敏感資訊（例如姓名、電話、住址、身分證號）。\\n\"\n",
    "    \"2) 對話需包含：釐清需求 → 提供步驟或要點 → 簡短總結。\\n\"\n",
    "    \"3) 內容須可作為微調資料，避免使用 placeholder（如 XXX）。\\n\"\n",
    "    \"4) 只輸出對話本身，不要額外說明。\"\n",
    ")"
   ]
  },
  {
   "cell_type": "markdown",
   "id": "64094cb1-a787-4946-95c4-6b8ca7eff484",
   "metadata": {},
   "source": [
    "## 3. 呼叫函式與重試機制\n",
    "\n",
    "為了提升穩定性，我們包一層簡單的重試（網路/暫時性錯誤時退避重試）。  \n",
    "回傳內容以「對話文字」為主，後續我們會存為 `messages` 結構。"
   ]
  },
  {
   "cell_type": "code",
   "execution_count": 5,
   "id": "30730936-3fac-43db-8282-656e7458776c",
   "metadata": {},
   "outputs": [],
   "source": [
    "import time\n",
    "\n",
    "def chat_completion(messages: List[Dict], temperature: float = TEMPERATURE, max_tokens: int = MAX_TOKENS, retries: int = 3):\n",
    "    for attempt in range(1, retries + 1):\n",
    "        try:\n",
    "            resp = client.chat.completions.create(\n",
    "                model=MODEL,\n",
    "                messages=messages,\n",
    "                temperature=temperature,\n",
    "                max_tokens=max_tokens,\n",
    "            )\n",
    "            return resp.choices[0].message.content\n",
    "        except Exception as e:\n",
    "            if attempt == retries:\n",
    "                raise\n",
    "            sleep_s = 1.5 * attempt\n",
    "            print(f\"⚠️ 呼叫失敗（第 {attempt} 次）：{e}，{sleep_s:.1f}s 後重試…\")\n",
    "            time.sleep(sleep_s)"
   ]
  },
  {
   "cell_type": "markdown",
   "id": "a225318d-84ff-4cb6-b961-75bb28eb7974",
   "metadata": {},
   "source": [
    "## 4. 單筆資料生成器\n",
    "\n",
    "把主題與風格帶入模板，組成 `messages` 後呼叫 API。  \n",
    "回傳結構採最小可用格式：\n",
    "```json\n",
    "{\n",
    "  \"id\": \"<隨機ID>\",\n",
    "  \"topic\": \"<主題>\",\n",
    "  \"style\": \"<風格>\",\n",
    "  \"messages\": [\n",
    "    {\"role\": \"system\", \"content\": \"...\"},\n",
    "    {\"role\": \"user\", \"content\": \"...\"},\n",
    "    {\"role\": \"assistant\", \"content\": \"...(模型輸出對話文本)...\"}\n",
    "  ]\n",
    "}"
   ]
  },
  {
   "cell_type": "code",
   "execution_count": 6,
   "id": "4bdffece-2142-4971-ad8e-3c070434da26",
   "metadata": {},
   "outputs": [],
   "source": [
    "import uuid\n",
    "\n",
    "def generate_example(topic: str, style: str = STYLE) -> Dict:\n",
    "    user_prompt = USER_TEMPLATE.format(topic=topic, style=style)\n",
    "    messages = [\n",
    "        {\"role\": \"system\", \"content\": SYSTEM_PROMPT},\n",
    "        {\"role\": \"user\", \"content\": user_prompt},\n",
    "    ]\n",
    "    content = chat_completion(messages)\n",
    "    example = {\n",
    "        \"id\": str(uuid.uuid4()),\n",
    "        \"topic\": topic,\n",
    "        \"style\": style,\n",
    "        \"messages\": [\n",
    "            {\"role\": \"system\", \"content\": SYSTEM_PROMPT},\n",
    "            {\"role\": \"user\", \"content\": user_prompt},\n",
    "            {\"role\": \"assistant\", \"content\": content},\n",
    "        ],\n",
    "    }\n",
    "    return example"
   ]
  },
  {
   "cell_type": "markdown",
   "id": "8b2ac3e1-2bb1-433e-9890-581234845331",
   "metadata": {},
   "source": [
    "## 5. 批次生成與進度顯示\n",
    "\n",
    "我們會針對每個主題生成 `N_PER_TOPIC` 筆資料，並即時寫入 `raw.jsonl`：  \n",
    "- 一筆一行，方便後續處理（品質檢查 / 轉檔）。  \n",
    "- 若中途中斷，可藉由檔案內容判斷已完成數量。"
   ]
  },
  {
   "cell_type": "code",
   "execution_count": 7,
   "id": "85cffa28-7e18-4fd2-a383-2dcbf12e1759",
   "metadata": {},
   "outputs": [
    {
     "name": "stderr",
     "output_type": "stream",
     "text": [
      "/opt/conda/lib/python3.11/site-packages/tqdm/auto.py:21: TqdmWarning: IProgress not found. Please update jupyter and ipywidgets. See https://ipywidgets.readthedocs.io/en/stable/user_install.html\n",
      "  from .autonotebook import tqdm as notebook_tqdm\n",
      "Topics:   0%|                                                  | 0/5 [00:00<?, ?it/s]\n",
      "Generating for 金融客服:   0%|                                 | 0/5 [00:00<?, ?it/s]\u001b[A\n",
      "Generating for 金融客服:  20%|█████                    | 1/5 [00:04<00:18,  4.50s/it]\u001b[A\n",
      "Generating for 金融客服:  80%|████████████████████     | 4/5 [00:04<00:00,  1.14it/s]\u001b[A\n",
      "Topics:  20%|████████▍                                 | 1/5 [00:04<00:18,  4.65s/it]\u001b[A\n",
      "Generating for 醫療諮詢:   0%|                                 | 0/5 [00:00<?, ?it/s]\u001b[A\n",
      "Generating for 醫療諮詢:  20%|█████                    | 1/5 [00:04<00:18,  4.62s/it]\u001b[A\n",
      "Generating for 醫療諮詢:  60%|███████████████          | 3/5 [00:04<00:02,  1.26s/it]\u001b[A\n",
      "Topics:  40%|████████████████▊                         | 2/5 [00:09<00:14,  4.81s/it]\u001b[A\n",
      "Generating for 法律諮詢:   0%|                                 | 0/5 [00:00<?, ?it/s]\u001b[A\n",
      "Generating for 法律諮詢:  20%|█████                    | 1/5 [00:05<00:20,  5.21s/it]\u001b[A\n",
      "Topics:  60%|█████████████████████████▏                | 3/5 [00:14<00:10,  5.04s/it]\u001b[A\n",
      "Generating for 電商售後:   0%|                                 | 0/5 [00:00<?, ?it/s]\u001b[A\n",
      "Generating for 電商售後:  20%|█████                    | 1/5 [00:04<00:16,  4.12s/it]\u001b[A\n",
      "Generating for 電商售後: 100%|█████████████████████████| 5/5 [00:04<00:00,  1.56it/s]\u001b[A\n",
      "Topics:  80%|█████████████████████████████████▌        | 4/5 [00:19<00:04,  4.74s/it]\u001b[A\n",
      "Generating for 教育輔導:   0%|                                 | 0/5 [00:00<?, ?it/s]\u001b[A\n",
      "Generating for 教育輔導:  20%|█████                    | 1/5 [00:04<00:16,  4.04s/it]\u001b[A\n",
      "Generating for 教育輔導:  60%|███████████████          | 3/5 [00:04<00:02,  1.09s/it]\u001b[A\n",
      "Generating for 教育輔導: 100%|█████████████████████████| 5/5 [00:04<00:00,  1.79it/s]\u001b[A\n",
      "Topics: 100%|██████████████████████████████████████████| 5/5 [00:23<00:00,  4.69s/it]\u001b[A"
     ]
    },
    {
     "name": "stdout",
     "output_type": "stream",
     "text": [
      "✅ 生成完成，共 25 筆，已寫入 outputs/raw.jsonl\n"
     ]
    },
    {
     "name": "stderr",
     "output_type": "stream",
     "text": [
      "\n"
     ]
    }
   ],
   "source": [
    "from tqdm.auto import tqdm\n",
    "\n",
    "# 若已存在舊檔，建議先備份或刪除\n",
    "if OUTPUT_PATH.exists():\n",
    "    print(f\"⚠️ {OUTPUT_PATH} 已存在，將覆寫。\")\n",
    "\n",
    "count = 0\n",
    "with OUTPUT_PATH.open(\"w\", encoding=\"utf-8\") as f:\n",
    "    for topic in tqdm(TOPICS, desc=\"Topics\"):\n",
    "        for _ in tqdm(range(N_PER_TOPIC), leave=False, desc=f\"Generating for {topic}\"):\n",
    "            ex = generate_example(topic)\n",
    "            f.write(json.dumps(ex, ensure_ascii=False) + \"\\n\")\n",
    "            count += 1\n",
    "\n",
    "print(f\"✅ 生成完成，共 {count} 筆，已寫入 {OUTPUT_PATH}\")"
   ]
  },
  {
   "cell_type": "markdown",
   "id": "74631183-a8cb-495a-9daf-bb150729c845",
   "metadata": {},
   "source": [
    "## 6. 快速抽樣檢視\n",
    "\n",
    "讀取部分樣本，確認結構與內容是否符合預期（詳細的敏感詞/長度/結構檢查會在下一支 Notebook 進行）。"
   ]
  },
  {
   "cell_type": "code",
   "execution_count": 9,
   "id": "3026fe3e-0a39-4c02-8282-ec420e988715",
   "metadata": {},
   "outputs": [
    {
     "name": "stdout",
     "output_type": "stream",
     "text": [
      "\n",
      "--- Sample 1 / topic=金融客服 ---\n",
      "**第一輪**\n",
      "\n",
      "**user:** 您好，我想詢問關於我的定期定額投資，最近的扣款出現了失敗的狀況，想知道如何處理。\n",
      "\n",
      "**assistant:** 您好，感謝您的聯繫。關於定期定額扣款失敗的問題，我們很樂意為您提供協助。為了更準確地了解情況，請問您的扣款失敗是針對哪個投資組合呢？以及您是否有收到任何來自銀行的扣款失敗通知，例如失敗原因？\n",
      "\n",
      "**第二輪**\n",
      "\n",
      "**user:** 是針對「全球永續成長」的投資組合，我收到銀行通知，顯示是因帳戶餘額不足導致扣款失敗。\n",
      "\n",
      "**assistant:** 好的，感謝您提供詳細資訊。帳戶餘額不足是常見的扣款失敗原因。針對此情況，我們建議您採取以下步驟：\n",
      "\n",
      "1.  **確認帳戶餘額：** 請您再次確認您的銀行帳戶餘額是否已足夠支付當期的定期定額金額。\n",
      "2.  **重新安排扣款：** 您可以透過銀行App或網銀，重新安排當期扣款。通常系統會保留扣款紀錄，您可以選擇在餘額充足後重新嘗試。\n",
      "3.  **調整定額金額或週期：** 如果您經常遇到餘額不足的情況，建議您考慮調整定期定額的金額或扣款週期，以符合您的財務狀況。\n",
      "4.  **聯繫銀行：** 若重新安...\n",
      "\n",
      "--- Sample 2 / topic=金融客服 ---\n",
      "**第一輪**\n",
      "\n",
      "**user:** 您好，我想詢問關於我的定期定額投資，最近的扣款出現了失敗的狀況，想知道如何處理。\n",
      "\n",
      "**assistant:** 您好，感謝您的聯繫。關於定期定額扣款失敗的問題，我們很樂意為您提供協助。為了更準確地了解情況，請問您的扣款失敗是針對哪個投資組合呢？以及您是否有收到任何來自銀行的扣款失敗通知，例如失敗原因？\n",
      "\n",
      "**第二輪**\n",
      "\n",
      "**user:** 是針對「全球永續成長」的投資組合，我收到銀行通知，顯示是因帳戶餘額不足導致扣款失敗。\n",
      "\n",
      "**assistant:** 好的，感謝您提供詳細資訊。帳戶餘額不足是常見的扣款失敗原因。針對此情況，我們建議您採取以下步驟：\n",
      "\n",
      "1.  **確認帳戶餘額：** 請您再次確認您的銀行帳戶餘額是否已足夠支付當期的定期定額金額。\n",
      "2.  **重新安排扣款：** 您可以透過銀行App或網銀，重新安排當期扣款。通常系統會保留扣款紀錄，您可以選擇在餘額充足後重新嘗試。\n",
      "3.  **調整定額金額或週期：** 如果您經常遇到餘額不足的情況，建議您考慮調整定期定額的金額或扣款週期，以符合您的財務狀況。\n",
      "4.  **聯繫銀行：** 若重新安...\n",
      "\n",
      "--- Sample 3 / topic=金融客服 ---\n",
      "**第一輪**\n",
      "\n",
      "**user:** 您好，我想詢問關於我的定期定額投資，最近的扣款出現了失敗的狀況，想知道如何處理。\n",
      "\n",
      "**assistant:** 您好，感謝您的聯繫。關於定期定額扣款失敗的問題，我們很樂意為您提供協助。為了更準確地了解情況，請問您的扣款失敗是針對哪個投資組合呢？以及您是否有收到任何來自銀行的扣款失敗通知，例如失敗原因？\n",
      "\n",
      "**第二輪**\n",
      "\n",
      "**user:** 是針對「全球永續成長」的投資組合，我收到銀行通知，顯示是因帳戶餘額不足導致扣款失敗。\n",
      "\n",
      "**assistant:** 好的，感謝您提供詳細資訊。帳戶餘額不足是常見的扣款失敗原因。針對此情況，我們建議您採取以下步驟：\n",
      "\n",
      "1.  **確認帳戶餘額：** 請您再次確認您的銀行帳戶餘額是否已足夠支付當期的定期定額金額。\n",
      "2.  **重新安排扣款：** 您可以透過銀行App或網銀，重新安排當期扣款。通常系統會保留扣款紀錄，您可以選擇在餘額充足後重新嘗試。\n",
      "3.  **調整定額金額或週期：** 如果您經常遇到餘額不足的情況，建議您考慮調整定期定額的金額或扣款週期，以符合您的財務狀況。\n",
      "4.  **聯繫銀行：** 若重新安...\n"
     ]
    }
   ],
   "source": [
    "samples = []\n",
    "with OUTPUT_PATH.open(\"r\", encoding=\"utf-8\") as f:\n",
    "    for i, line in enumerate(f):\n",
    "        if i >= 3:  # 只看前三筆\n",
    "            break\n",
    "        samples.append(json.loads(line))\n",
    "\n",
    "for i, s in enumerate(samples, 1):\n",
    "    print(f\"\\n--- Sample {i} / topic={s['topic']} ---\")\n",
    "    # 只截斷顯示前 500 字，避免輸出過長\n",
    "    text = s[\"messages\"][-1][\"content\"]\n",
    "    print(text[:500] + (\"...\" if len(text) > 500 else \"\"))"
   ]
  },
  {
   "cell_type": "markdown",
   "id": "144483b5-6a47-4803-bb4f-56bee69989ab",
   "metadata": {},
   "source": [
    "## 7. 小挑戰（練習）\n",
    "\n",
    "1. 調整 `STYLE` 與 `TEMPERATURE`，觀察輸出差異。  \n",
    "2. 增加/替換 `TOPICS`，例如加入「公共服務」「製造業維運」。  \n",
    "3. 嘗試提高 `N_PER_TOPIC`，建立更大的 raw 資料集。  \n",
    "4. 在 `USER_TEMPLATE` 中加入更多結構化約束（例如要求分段或使用標題）。  "
   ]
  }
 ],
 "metadata": {
  "kernelspec": {
   "display_name": "Python 3 (ipykernel)",
   "language": "python",
   "name": "python3"
  },
  "language_info": {
   "codemirror_mode": {
    "name": "ipython",
    "version": 3
   },
   "file_extension": ".py",
   "mimetype": "text/x-python",
   "name": "python",
   "nbconvert_exporter": "python",
   "pygments_lexer": "ipython3",
   "version": "3.11.6"
  }
 },
 "nbformat": 4,
 "nbformat_minor": 5
}
